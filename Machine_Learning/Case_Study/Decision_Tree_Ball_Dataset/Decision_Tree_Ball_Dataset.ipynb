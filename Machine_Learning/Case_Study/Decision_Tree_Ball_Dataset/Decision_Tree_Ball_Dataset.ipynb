{
 "cells": [
  {
   "cell_type": "code",
   "execution_count": 36,
   "metadata": {},
   "outputs": [
    {
     "name": "stdout",
     "output_type": "stream",
     "text": [
      "    Weight Surface    Label\n",
      "0       35   Rough   Tennis\n",
      "1       47   Rough   Tennis\n",
      "2       90  Smooth  Cricket\n",
      "3       48   Rough   Tennis\n",
      "4       90  Smooth  Cricket\n",
      "5       35   Rough   Tennis\n",
      "6       92  Smooth  Cricket\n",
      "7       35   Rough   Tennis\n",
      "8       35   Rough   Tennis\n",
      "9       35   Rough   Tennis\n",
      "10      96  Smooth  Cricket\n",
      "11      43   Rough   Tennis\n",
      "12     110  Smooth  Cricket\n",
      "13      35   Rough   Tennis\n",
      "14      95  Smooth  Cricket\n"
     ]
    }
   ],
   "source": [
    "# import the dataset from csv file\n",
    "\n",
    "import os\n",
    "import pandas as pd\n",
    "from sklearn.model_selection import train_test_split\n",
    "from sklearn.tree import DecisionTreeClassifier\n",
    "\n",
    "dataset = pd.read_csv(\"D:\\BTech\\Machine Learning\\Ball_Classification\\Dataset\\Ball_Dataset.csv\")\n",
    "print(dataset)"
   ]
  },
  {
   "cell_type": "code",
   "execution_count": 37,
   "metadata": {},
   "outputs": [
    {
     "name": "stdout",
     "output_type": "stream",
     "text": [
      "    Weight  Surface  Label\n",
      "0       35        0      0\n",
      "1       47        0      0\n",
      "2       90        1      1\n",
      "3       48        0      0\n",
      "4       90        1      1\n",
      "5       35        0      0\n",
      "6       92        1      1\n",
      "7       35        0      0\n",
      "8       35        0      0\n",
      "9       35        0      0\n",
      "10      96        1      1\n",
      "11      43        0      0\n",
      "12     110        1      1\n",
      "13      35        0      0\n",
      "14      95        1      1\n"
     ]
    }
   ],
   "source": [
    "# Converting text labels into numericals\n",
    "dataset[\"Surface\"] = pd.factorize(dataset.Surface)[0]\n",
    "dataset[\"Label\"] = pd.factorize(dataset.Label)[0]\n",
    "print(dataset)"
   ]
  },
  {
   "cell_type": "code",
   "execution_count": 38,
   "metadata": {},
   "outputs": [],
   "source": [
    "#spliting the dataset into two parts for Training and Testing\n",
    "X = dataset.drop([\"Label\"], axis = 1)\n",
    "Y = dataset[\"Label\"]\n",
    "xtrain, xtest, ytrain, ytest = train_test_split(X, Y, test_size = 0.2, random_state = 0)"
   ]
  },
  {
   "cell_type": "code",
   "execution_count": 48,
   "metadata": {},
   "outputs": [
    {
     "name": "stdout",
     "output_type": "stream",
     "text": [
      "Given test data:\n",
      "    Weight  Surface\n",
      "1      47        0\n",
      "6      92        1\n",
      "8      35        0\n",
      "\n",
      "\n",
      "Predicted lable:\n",
      " [0 1 0]\n"
     ]
    }
   ],
   "source": [
    "# creating an object of decision tree\n",
    "dtc = DecisionTreeClassifier()\n",
    "\n",
    "# fiting the test data in the decision tree for training\n",
    "training = dtc.fit(xtrain, ytrain)\n",
    "\n",
    "# predicting the lable for given test data\n",
    "ypredict = dtc.predict(xtest)\n",
    "\n",
    "print(\"Given test data:\\n\",xtest)\n",
    "print(\"\\n\\nPredicted lable:\\n\",ypredict)"
   ]
  }
 ],
 "metadata": {
  "kernelspec": {
   "display_name": "Python 3",
   "language": "python",
   "name": "python3"
  },
  "language_info": {
   "codemirror_mode": {
    "name": "ipython",
    "version": 3
   },
   "file_extension": ".py",
   "mimetype": "text/x-python",
   "name": "python",
   "nbconvert_exporter": "python",
   "pygments_lexer": "ipython3",
   "version": "3.7.2"
  }
 },
 "nbformat": 4,
 "nbformat_minor": 2
}
