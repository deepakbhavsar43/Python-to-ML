{
 "cells": [
  {
   "cell_type": "code",
   "execution_count": 1,
   "metadata": {},
   "outputs": [],
   "source": [
    "# Import necessary packages\n",
    "from math import sqrt\n",
    "from csv import reader\n",
    "import pandas as pd\n",
    "from sklearn.metrics import accuracy_score"
   ]
  },
  {
   "cell_type": "code",
   "execution_count": 2,
   "metadata": {},
   "outputs": [],
   "source": [
    "# Load a CSV file\n",
    "def load_csv(filename):\n",
    "    dataset = []\n",
    "    with open(\"Dataset/Play_Predictor.csv\", 'r') as file:\n",
    "        csv_data = reader(file)\n",
    "        for row in csv_data:\n",
    "            # print(row)\n",
    "            dataset.append(row[1:])\n",
    "    dataset = dataset[1:]\n",
    "\n",
    "    col1, col2, col3 = [], [], []\n",
    "    row_length = len(dataset[0][1])\n",
    "    for i in range(0, row_length):\n",
    "        for row in dataset:\n",
    "            col1.append(row[0])\n",
    "            col2.append(row[1])\n",
    "            col3.append(row[2])\n",
    "\n",
    "    col1 = pd.factorize(col1)[0]\n",
    "    col2 = pd.factorize(col2)[0]\n",
    "    col3 = pd.factorize(col3)[0]\n",
    "    # print(col1)\n",
    "\n",
    "    row_length = len(dataset)\n",
    "    # print(row_length)\n",
    "    for i in range(0, row_length):\n",
    "        dataset[i][0] = col1[i]\n",
    "        dataset[i][1] = col2[i]\n",
    "        dataset[i][2] = col3[i]\n",
    "    return dataset"
   ]
  },
  {
   "cell_type": "code",
   "execution_count": 3,
   "metadata": {},
   "outputs": [
    {
     "name": "stdout",
     "output_type": "stream",
     "text": [
      "[[0, 0, 0], [0, 0, 0], [1, 0, 1], [2, 1, 1], [2, 2, 1], [2, 2, 0], [1, 2, 1], [0, 1, 0], [0, 2, 1], [2, 1, 1], [0, 1, 1], [1, 1, 1], [1, 0, 1], [2, 1, 0], [2, 1, 1], [2, 2, 1], [2, 2, 0], [1, 2, 1], [0, 1, 0], [0, 2, 1], [2, 1, 1], [0, 1, 1], [0, 0, 0], [0, 0, 0], [1, 0, 1], [2, 1, 1], [2, 2, 1], [1, 2, 1], [0, 1, 0], [0, 2, 1], [0, 0, 0], [1, 0, 1], [2, 1, 1], [2, 2, 1], [2, 2, 0], [1, 2, 1], [0, 1, 0], [0, 2, 1], [2, 1, 1], [2, 2, 0]]\n"
     ]
    }
   ],
   "source": [
    "######\n",
    "#Demo.\n",
    "######\n",
    "dataset = load_csv('Dataset/Play_Predict.csv')\n",
    "print(dataset)"
   ]
  },
  {
   "cell_type": "code",
   "execution_count": 4,
   "metadata": {},
   "outputs": [],
   "source": [
    "# Calculate the Euclidean distance between two vectors\n",
    "def euclidean_distance(row1, row2):\n",
    "    distance = 0.0\n",
    "    for i in range(len(row1) - 1):\n",
    "        distance += (row1[i] - row2[i]) ** 2\n",
    "    return sqrt(distance)"
   ]
  },
  {
   "cell_type": "code",
   "execution_count": 5,
   "metadata": {},
   "outputs": [
    {
     "data": {
      "text/plain": [
       "6.164414002968976"
      ]
     },
     "execution_count": 5,
     "metadata": {},
     "output_type": "execute_result"
    }
   ],
   "source": [
    "######\n",
    "#Demo.\n",
    "######\n",
    "test = [5,3,2,1]\n",
    "euclidean_distance(test, dataset[0])"
   ]
  },
  {
   "cell_type": "code",
   "execution_count": 6,
   "metadata": {},
   "outputs": [],
   "source": [
    "# Locate the most similar neighbors\n",
    "def get_neighbors(train, test_row, num_neighbors):\n",
    "    distances = list()\n",
    "    for train_row in train:\n",
    "        dist = euclidean_distance(test_row, train_row)\n",
    "        distances.append((train_row, dist))\n",
    "    distances.sort(key=lambda tup: tup[1])\n",
    "    neighbors = list()\n",
    "    for i in range(num_neighbors):\n",
    "        neighbors.append(distances[i][0])\n",
    "    return neighbors"
   ]
  },
  {
   "cell_type": "code",
   "execution_count": 7,
   "metadata": {},
   "outputs": [
    {
     "data": {
      "text/plain": [
       "[[2, 2, 1], [2, 2, 1], [2, 2, 1], [2, 2, 1], [2, 1, 1]]"
      ]
     },
     "execution_count": 7,
     "metadata": {},
     "output_type": "execute_result"
    }
   ],
   "source": [
    "######\n",
    "#Demo.\n",
    "######\n",
    "get_neighbors(dataset, test, 5)"
   ]
  },
  {
   "cell_type": "code",
   "execution_count": 8,
   "metadata": {},
   "outputs": [],
   "source": [
    "# Make a prediction with neighbors\n",
    "def predict_classification(train, test_row, num_neighbors):\n",
    "    neighbors = get_neighbors(train, test_row, num_neighbors)\n",
    "    output_values = [row[-1] for row in neighbors]\n",
    "    prediction = max(set(output_values), key=output_values.count)\n",
    "    return prediction"
   ]
  },
  {
   "cell_type": "code",
   "execution_count": 9,
   "metadata": {},
   "outputs": [
    {
     "data": {
      "text/plain": [
       "1"
      ]
     },
     "execution_count": 9,
     "metadata": {},
     "output_type": "execute_result"
    }
   ],
   "source": [
    "######\n",
    "#Demo.\n",
    "######\n",
    "predict_classification(dataset, test, 5)"
   ]
  },
  {
   "cell_type": "code",
   "execution_count": 10,
   "metadata": {},
   "outputs": [],
   "source": [
    "# Calculate accuracy\n",
    "def accuracy(orignal_label, predicted_label):\n",
    "    acc = accuracy_score(orignal_label, predicted_label, sample_weight=None)\n",
    "    print(\"\\nAccuracy :\\n\", acc * 100)"
   ]
  },
  {
   "cell_type": "code",
   "execution_count": 11,
   "metadata": {},
   "outputs": [
    {
     "name": "stdout",
     "output_type": "stream",
     "text": [
      "\n",
      "Accuracy :\n",
      " 100.0\n"
     ]
    }
   ],
   "source": [
    "######\n",
    "#Demo.\n",
    "######\n",
    "p = [0,0,0]\n",
    "l = [0,0,0]\n",
    "accuracy(p, l)"
   ]
  },
  {
   "cell_type": "code",
   "execution_count": 12,
   "metadata": {},
   "outputs": [
    {
     "name": "stdout",
     "output_type": "stream",
     "text": [
      "Data=[0, 2, 1], Predicted label: 1, Original label: 1\n",
      "Data=[2, 1, 1], Predicted label: 1, Original label: 1\n",
      "Data=[2, 2, 0], Predicted label: 1, Original label: 0\n",
      "\n",
      "Accuracy :\n",
      " 66.66666666666666\n"
     ]
    }
   ],
   "source": [
    "# Load the dataset from IRIS.csv\n",
    "if __name__ == \"__main__\":\n",
    "    filename = 'Dataset/Play_Predict.csv'\n",
    "    dataset1 = load_csv(filename)\n",
    "        \n",
    "    # define model parameter\n",
    "    num_neighbors = 5\n",
    "\n",
    "    # define test data\n",
    "    test_data = [[0, 2, 1],\n",
    "                 [2, 1, 1],\n",
    "                 [2, 2, 0]]\n",
    "\n",
    "    # predict the label\n",
    "    predict_lbl, ori_lbl = [], []\n",
    "    for row in test_data:\n",
    "        label = predict_classification(dataset, row, num_neighbors)\n",
    "        print('Data=%s, Predicted label: %s, Original label: %s' % (row[0:3], label, row[-1]))\n",
    "        predict_lbl.append(label)\n",
    "        ori_lbl.append(row[-1])\n",
    "\n",
    "    # Display accuracy\n",
    "    accuracy(ori_lbl, predict_lbl)\n"
   ]
  }
 ],
 "metadata": {
  "kernelspec": {
   "display_name": "Python 3",
   "language": "python",
   "name": "python3"
  },
  "language_info": {
   "codemirror_mode": {
    "name": "ipython",
    "version": 3
   },
   "file_extension": ".py",
   "mimetype": "text/x-python",
   "name": "python",
   "nbconvert_exporter": "python",
   "pygments_lexer": "ipython3",
   "version": "3.7.2"
  }
 },
 "nbformat": 4,
 "nbformat_minor": 2
}
