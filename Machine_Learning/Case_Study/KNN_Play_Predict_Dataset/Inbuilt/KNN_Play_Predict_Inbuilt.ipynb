{
 "cells": [
  {
   "cell_type": "code",
   "execution_count": 1,
   "metadata": {},
   "outputs": [],
   "source": [
    "# Import necessary packages\n",
    "from sklearn.neighbors import KNeighborsClassifier\n",
    "from sklearn.model_selection import train_test_split\n",
    "from sklearn.metrics import accuracy_score\n",
    "import pandas as pd"
   ]
  },
  {
   "cell_type": "code",
   "execution_count": 2,
   "metadata": {},
   "outputs": [],
   "source": [
    "# Load and prepare data\n",
    "data = pd.read_csv(\"Dataset/Play_Predictor.csv\")\n",
    "data = data.drop([\"sr\"], axis=1)\n",
    "data[\"Wether\"] = pd.factorize(data.Wether)[0]\n",
    "data[\"Temperature\"] = pd.factorize(data.Temperature)[0]\n",
    "data[\"Play\"] = pd.factorize(data.Play)[0]\n"
   ]
  },
  {
   "cell_type": "code",
   "execution_count": 3,
   "metadata": {},
   "outputs": [
    {
     "name": "stdout",
     "output_type": "stream",
     "text": [
      "    Wether  Temperature  Play\n",
      "0        0            0     0\n",
      "1        0            0     0\n",
      "2        1            0     1\n",
      "3        2            1     1\n",
      "4        2            2     1\n",
      "5        2            2     0\n",
      "6        1            2     1\n",
      "7        0            1     0\n",
      "8        0            2     1\n",
      "9        2            1     1\n",
      "10       0            1     1\n",
      "11       1            1     1\n",
      "12       1            0     1\n",
      "13       2            1     0\n",
      "14       2            1     1\n",
      "15       2            2     1\n",
      "16       2            2     0\n",
      "17       1            2     1\n",
      "18       0            1     0\n",
      "19       0            2     1\n",
      "20       2            1     1\n",
      "21       0            1     1\n",
      "22       0            0     0\n",
      "23       0            0     0\n",
      "24       1            0     1\n",
      "25       2            1     1\n",
      "26       2            2     1\n",
      "27       1            2     1\n",
      "28       0            1     0\n",
      "29       0            2     1\n",
      "30       0            0     0\n",
      "31       1            0     1\n",
      "32       2            1     1\n",
      "33       2            2     1\n",
      "34       2            2     0\n",
      "35       1            2     1\n",
      "36       0            1     0\n",
      "37       0            2     1\n",
      "38       2            1     1\n",
      "39       2            2     0\n"
     ]
    }
   ],
   "source": [
    "print(data)"
   ]
  },
  {
   "cell_type": "code",
   "execution_count": 4,
   "metadata": {},
   "outputs": [],
   "source": [
    "# Split data for training and testiing\n",
    "\n",
    "X = data.drop([\"Play\"], axis=1)\n",
    "Y = data[\"Play\"]\n",
    "xtrain, xtest, ytrain, ytest = train_test_split(X, Y, test_size=0.2, random_state=0)"
   ]
  },
  {
   "cell_type": "code",
   "execution_count": 5,
   "metadata": {},
   "outputs": [],
   "source": [
    "# Createmodel object and fit data to for training\n",
    "knn = KNeighborsClassifier()\n",
    "train = knn.fit(xtrain, ytrain)"
   ]
  },
  {
   "cell_type": "code",
   "execution_count": 6,
   "metadata": {},
   "outputs": [],
   "source": [
    "# Predict lable of test data\n",
    "ypredicted = knn.predict(xtest)"
   ]
  },
  {
   "cell_type": "code",
   "execution_count": 7,
   "metadata": {},
   "outputs": [
    {
     "name": "stdout",
     "output_type": "stream",
     "text": [
      "[0 1 1 0 0 0 0 1]\n"
     ]
    }
   ],
   "source": [
    "print(ypredicted)"
   ]
  },
  {
   "cell_type": "code",
   "execution_count": 8,
   "metadata": {},
   "outputs": [],
   "source": [
    "# Calculate the accuracy of the model\n",
    "acc = accuracy_score(ytest, ypredicted)"
   ]
  },
  {
   "cell_type": "code",
   "execution_count": 9,
   "metadata": {},
   "outputs": [
    {
     "name": "stdout",
     "output_type": "stream",
     "text": [
      "Accuracy of the model : 62.5%\n"
     ]
    }
   ],
   "source": [
    "print(f\"Accuracy of the model : {acc*100}%\")"
   ]
  }
 ],
 "metadata": {
  "kernelspec": {
   "display_name": "Python 3",
   "language": "python",
   "name": "python3"
  },
  "language_info": {
   "codemirror_mode": {
    "name": "ipython",
    "version": 3
   },
   "file_extension": ".py",
   "mimetype": "text/x-python",
   "name": "python",
   "nbconvert_exporter": "python",
   "pygments_lexer": "ipython3",
   "version": "3.7.2"
  }
 },
 "nbformat": 4,
 "nbformat_minor": 2
}
